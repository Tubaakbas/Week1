{
 "cells": [
  {
   "cell_type": "markdown",
   "metadata": {},
   "source": [
    "Exercise 1:\n",
    "Write a function that receives a list as parameter and return how many elements it has; if it doesn't have any element return an error\n",
    "\n",
    "TR:\n",
    "Bir listeyi parametre olarak alan ve kaç öğeye sahip olduğunu döndüren bir fonksiyon yazın; Herhangi bir elemanı yoksa hata döndürmeli."
   ]
  },
  {
   "cell_type": "code",
   "execution_count": 4,
   "metadata": {},
   "outputs": [],
   "source": [
    "#liste elemananlarinin alinmasi icin bir fonksiyon olusturuldu\n",
    "def list_element(requirement_list): \n",
    "    size=len(requirement_list)\n",
    "    if size==0:#Eger liste bos ise \n",
    "        return \"Error! No Elements\" #ekrana uyarı mesaji yazildi\n",
    "    else: #Eger liste bos degilse \n",
    "        return f\"List have {size} elements\" #listenin eleman sayisi return edildi"
   ]
  },
  {
   "cell_type": "code",
   "execution_count": 6,
   "metadata": {},
   "outputs": [
    {
     "data": {
      "text/plain": [
       "'List have 5 elements'"
      ]
     },
     "execution_count": 6,
     "metadata": {},
     "output_type": "execute_result"
    }
   ],
   "source": [
    "#liste olusturuldu ve fonksiyona gonderildi\n",
    "requirement_list = [\"milk\", \"tea\", \"coffee\", \"tomatoes\", \"cheese\"]\n",
    "#requirement_list=[]\n",
    "list_element(requirement_list) "
   ]
  },
  {
   "cell_type": "markdown",
   "metadata": {},
   "source": [
    "Exercise 2:\n",
    "Write a function that receives a string as parameter and return the number of each character in it.\n",
    "\n",
    "TR:\n",
    "Parametre olarak bir string alan ve içindeki her karakterin sayısını döndüren bir fonksiyon yazın."
   ]
  },
  {
   "cell_type": "markdown",
   "metadata": {},
   "source": [
    "Exercise 2-Solution 1:"
   ]
  },
  {
   "cell_type": "code",
   "execution_count": 46,
   "metadata": {},
   "outputs": [],
   "source": [
    "def character_number(word):\n",
    "    print(\"Kelime: \", word)\n",
    "    counter= \"\" #counter ile tekrar eden kelimelerin herf defasında yazılması engelledi\n",
    "    for item in word:\n",
    "        if item not in counter: #Eğer harf counterda yoksa \n",
    "            counter += item #birleştirme işlemi yapar\n",
    "    \n",
    "    print(\"Kelimenin Son Durumu: \",counter)\n",
    "\n",
    "    for i in counter:\n",
    "        #print(word)\n",
    "        print(\"{} harfi {} defa geçiyor!\".format(i, word.count(i)))"
   ]
  },
  {
   "cell_type": "code",
   "execution_count": 47,
   "metadata": {},
   "outputs": [
    {
     "name": "stdout",
     "output_type": "stream",
     "text": [
      "Kelime:  Tubaakbas\n",
      "Kelimenin Son Durumu:  Tubaks\n",
      "T harfi 1 kez geçiyor!\n",
      "u harfi 1 kez geçiyor!\n",
      "b harfi 2 kez geçiyor!\n",
      "a harfi 3 kez geçiyor!\n",
      "k harfi 1 kez geçiyor!\n",
      "s harfi 1 kez geçiyor!\n"
     ]
    }
   ],
   "source": [
    "word=\"Tubaakbas\"\n",
    "character_number(word)"
   ]
  },
  {
   "cell_type": "markdown",
   "metadata": {},
   "source": [
    "Exercise 2-Solution 2:\n",
    "most_common ([n]): verilen kelimenin her bir harfinden kaç tane bulunduğunu söyleyen hazır fonksiyondur. Ayrıca büyükten küçüğe doğru sıralama yapar."
   ]
  },
  {
   "cell_type": "code",
   "execution_count": 1,
   "metadata": {},
   "outputs": [],
   "source": [
    "from collections import Counter #kütüphane import edildi"
   ]
  },
  {
   "cell_type": "code",
   "execution_count": 24,
   "metadata": {},
   "outputs": [],
   "source": [
    "def count_letter(word): #kelimenin harfleni saymak icin fonksiyon olusturuldu\n",
    "    #kelimenin uzunlugu alindi cunku uzunluktan daha kucuk bir sayi girildiginde tum harfleri almaz\n",
    "    print(Counter(word).most_common(len(word))) "
   ]
  },
  {
   "cell_type": "code",
   "execution_count": 26,
   "metadata": {},
   "outputs": [
    {
     "name": "stdout",
     "output_type": "stream",
     "text": [
      "[('a', 3), ('b', 2), ('t', 1), ('u', 1), ('k', 1), ('s', 1)]\n"
     ]
    }
   ],
   "source": [
    "count_letter(\"tubaakbas\") #fonksiyon cagrildi ve kelime yazildi\n"
   ]
  }
 ],
 "metadata": {
  "kernelspec": {
   "display_name": "base",
   "language": "python",
   "name": "python3"
  },
  "language_info": {
   "codemirror_mode": {
    "name": "ipython",
    "version": 3
   },
   "file_extension": ".py",
   "mimetype": "text/x-python",
   "name": "python",
   "nbconvert_exporter": "python",
   "pygments_lexer": "ipython3",
   "version": "3.11.5"
  }
 },
 "nbformat": 4,
 "nbformat_minor": 2
}
