{
 "cells": [
  {
   "cell_type": "markdown",
   "metadata": {},
   "source": [
    "Exercise 1:\n",
    "Write a function that receives a list as parameter and return how many elements it has; if it doesn't have any element return an error\n",
    "\n",
    "TR:\n",
    "Bir listeyi parametre olarak alan ve kaç öğeye sahip olduğunu döndüren bir fonksiyon yazın; Herhangi bir elemanı yoksa hata döndürmeli."
   ]
  },
  {
   "cell_type": "code",
   "execution_count": 11,
   "metadata": {},
   "outputs": [],
   "source": [
    "def List_Element(requirement_list):\n",
    "    if len(requirement_list)==0:\n",
    "        print(\"There is no element in the list\")\n",
    "    else:\n",
    "        return len(requirement_list)"
   ]
  },
  {
   "cell_type": "code",
   "execution_count": 12,
   "metadata": {},
   "outputs": [
    {
     "name": "stdout",
     "output_type": "stream",
     "text": [
      "There is no element in the list\n",
      "Number of Elements:  None\n"
     ]
    }
   ],
   "source": [
    "#requirement_list = [\"milk\", \"tea\", \"coffee\", \"tomatoes\", \"cheese\"]\n",
    "requirement_list=[]\n",
    "result=List_Element(requirement_list)\n",
    "print(\"Number of Elements: \", result)"
   ]
  },
  {
   "cell_type": "markdown",
   "metadata": {},
   "source": [
    "Exercise 2:\n",
    "Write a function that receives a string as parameter and return the number of each character in it.\n",
    "\n",
    "TR:\n",
    "Parametre olarak bir string alan ve içindeki her karakterin sayısını döndüren bir fonksiyon yazın."
   ]
  },
  {
   "cell_type": "code",
   "execution_count": 46,
   "metadata": {},
   "outputs": [],
   "source": [
    "def character_number(word):\n",
    "    print(\"Kelime: \", word)\n",
    "    counter= \"\" #counter ile tekrar eden kelimelerin herf defasında yazılması engelledi\n",
    "    for item in word:\n",
    "        if item not in counter: #Eğer harf counterda yoksa \n",
    "            counter += item #birleştirme işlemi yapar\n",
    "    \n",
    "    print(\"Kelimenin Son Durumu: \",counter)\n",
    "\n",
    "    for i in counter:\n",
    "        #print(word)\n",
    "        print(\"{} harfi {} defa geçiyor!\".format(i, word.count(i)))"
   ]
  },
  {
   "cell_type": "code",
   "execution_count": 47,
   "metadata": {},
   "outputs": [
    {
     "name": "stdout",
     "output_type": "stream",
     "text": [
      "Kelime:  Tubaakbas\n",
      "Kelimenin Son Durumu:  Tubaks\n",
      "T harfi 1 kez geçiyor!\n",
      "u harfi 1 kez geçiyor!\n",
      "b harfi 2 kez geçiyor!\n",
      "a harfi 3 kez geçiyor!\n",
      "k harfi 1 kez geçiyor!\n",
      "s harfi 1 kez geçiyor!\n"
     ]
    }
   ],
   "source": [
    "word=\"Tubaakbas\"\n",
    "character_number(word)"
   ]
  }
 ],
 "metadata": {
  "kernelspec": {
   "display_name": "base",
   "language": "python",
   "name": "python3"
  },
  "language_info": {
   "codemirror_mode": {
    "name": "ipython",
    "version": 3
   },
   "file_extension": ".py",
   "mimetype": "text/x-python",
   "name": "python",
   "nbconvert_exporter": "python",
   "pygments_lexer": "ipython3",
   "version": "3.11.5"
  }
 },
 "nbformat": 4,
 "nbformat_minor": 2
}
